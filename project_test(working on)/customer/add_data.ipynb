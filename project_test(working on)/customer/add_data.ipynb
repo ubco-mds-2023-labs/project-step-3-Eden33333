{
 "cells": [
  {
   "cell_type": "code",
   "execution_count": 1,
   "metadata": {},
   "outputs": [],
   "source": [
    "import sqlite3\n",
    "import uuid\n",
    "from datetime import datetime"
   ]
  },
  {
   "cell_type": "code",
   "execution_count": 2,
   "metadata": {},
   "outputs": [],
   "source": [
    "conn = sqlite3.connect(\"Supermarket.db\")\n",
    "try:\n",
    "    # Disable synchronous\n",
    "    conn.execute(\"PRAGMA synchronous = OFF\")\n",
    "    # Disable locking (simulate by using a non-exclusive transaction)\n",
    "    conn.execute(\"BEGIN IMMEDIATE\")\n",
    "\n",
    "    # Enable read uncommitted\n",
    "    conn.execute(\"PRAGMA read_uncommitted = true\")\n",
    "    # Perform your database operations within the transaction\n",
    "\n",
    "    # Commit the transaction\n",
    "    conn.commit()\n",
    "\n",
    "finally:\n",
    "    # Close the database connection\n",
    "    conn.close()                "
   ]
  },
  {
   "cell_type": "code",
   "execution_count": 7,
   "metadata": {},
   "outputs": [],
   "source": [
    "#members_drop_sql=\"drop table members\"\n",
    "#transactions_drop_sql=\"drop table transactions\""
   ]
  },
  {
   "cell_type": "code",
   "execution_count": 2,
   "metadata": {},
   "outputs": [
    {
     "name": "stdout",
     "output_type": "stream",
     "text": [
      "List of tables\n",
      "\n",
      "[('members',), ('transactions',)]\n"
     ]
    }
   ],
   "source": [
    "try:\n",
    "    cnx=sqlite3.connect(\"Supermarket.db\")\n",
    "    cursor=cnx.cursor()\n",
    "    #cursor.execute(\"CREATE TABLE members (id integer, name text, email text, phone text, address text, credits real, deposit real, total_consumption amount real, premium membership status boolean, primary key (id))\")\n",
    "    #cursor.execute(\"CREATE TABLE transactions (customer_id integer, transaction_id integer, items_name text, items_quantity text, items_price text, items_value text, transaction_time text, order_review text, order_rate text, primary key(customer_id, transaction_id))\")\n",
    "    #cnx.commit()\n",
    "    sql_query = \"\"\"SELECT name FROM sqlite_master \n",
    "    WHERE type='table';\"\"\"\n",
    "    cursor.execute(sql_query)\n",
    "    print(\"List of tables\\n\")\n",
    "    print(cursor.fetchall())\n",
    "    #cursor.execute(members_drop_sql)\n",
    "    #cursor.execute(transactions_drop_sql)\n",
    "except sqlite3.Error as err:\n",
    "    print(err)"
   ]
  },
  {
   "cell_type": "code",
   "execution_count": 3,
   "metadata": {},
   "outputs": [],
   "source": [
    "members_all_sql=\"select * from members \"\n",
    "transactions_all_sql=\"select  * from transactions\"\n",
    "members_insert_sql=\"insert into members values (?,?,?,?,?,?,?,?,? )\"\n",
    "transactions_insert_sql=\"insert into transactions values (?, ?, ?, ?, ?, ?, ?, ?, ?)\"\n",
    "transactions_delete_sql=\"delete from transactions where customer_id=?\""
   ]
  },
  {
   "cell_type": "code",
   "execution_count": 15,
   "metadata": {},
   "outputs": [
    {
     "data": {
      "text/plain": [
       "'2023-12-08 10:47:01'"
      ]
     },
     "execution_count": 15,
     "metadata": {},
     "output_type": "execute_result"
    }
   ],
   "source": [
    "test_transaction_time=datetime.now()\n",
    "#test_transaction_time_str=test_transaction_time.strftime(\"%Y-%m-%d\")\n",
    "test_transaction_time_str=test_transaction_time.strftime(\"%Y-%m-%d %H:%M:%S\")\n",
    "jade_id=datetime.now().minute+datetime.now().second+int(str(uuid.uuid4().int)[:4])\n",
    "eden_id=datetime.now().minute+datetime.now().second+int(str(uuid.uuid4().int)[:4])\n",
    "test_transaction_time_str"
   ]
  },
  {
   "cell_type": "code",
   "execution_count": 55,
   "metadata": {},
   "outputs": [],
   "source": [
    "#insert values into members\n",
    "try:\n",
    "    cnx=sqlite3.connect(\"Supermarket.db\")\n",
    "    cursor=cnx.cursor()\n",
    "    #cursor.execute(members_insert_sql, (1, 'Jade Yu', '1234567@gmail.com', '123456789', 'Apt 201 ABC Lane Kelowna', 0, 0, 0, False))\n",
    "    #cursor.execute(members_insert_sql, (2, 'Eden Chen', '987654321@gmail.com', '987654321', 'Apt 201 ABC Lane Kelowna', 50000, 0, 0, True))\n",
    "    cursor.execute(transactions_insert_sql,(2, eden_id, 'bread,rice', '1,2', '1,2', '1,4', test_transaction_time_str, 'great quality','5'))\n",
    "    #cursor.execute(transactions_delete_sql, (1, ))\n",
    "    cnx.commit()\n",
    "finally:\n",
    "    cnx.close()"
   ]
  },
  {
   "cell_type": "code",
   "execution_count": 4,
   "metadata": {},
   "outputs": [
    {
     "name": "stdout",
     "output_type": "stream",
     "text": [
      "(1, 'Jade Yu', 'jadenewemail@gmail.com', '123456789', 'Apt 201 ABC Lane Kelowna', 0.14, 0.0, 14.0, 0)\n",
      "(2, 'Eden Chen', '987654321@gmail.com', '987654321', 'Apt 201 ABC Lane Kelowna', 50000.0, 0.0, 0.0, 1)\n",
      "(3, 'Ada', 'adaemail@gmail.com', '123678456', 'Somewhere in Van', 0.0, 0.0, 0.0, 0)\n",
      "(4, 'Jane', 'janeschangedemail@g,ail.com', '12344321', 'Kelowna', 0.0, 90.0, 0.0, 0)\n",
      "(1, 2193, 'banana,apple', '1,2', '1,2', '1,4', '2023-12-06', 'bought salad and chips, good', '4')\n",
      "(1, 2378, 'banana,orange', '1,2', '1,2', '1,4', '2023-12-06', 'bought salad and chips, good', '4')\n",
      "(2, 9884, 'lemon,orange', '1,2', '1,2', '1,4', '2023-12-06', 'great', '5')\n",
      "(2, 1052, 'bread,rice', '1,2', '1,2', '1,4', '2023-12-06', 'great quality', '5')\n",
      "(1, 2993, ',salad,chips', ',1,1', ',2,4', ',2.0,4.0', '2023-12-08 09:21:12.625656', 'bought salad and chips, good', '4')\n",
      "(1, 2181, ',salad,chips', ',1,1', ',2,4', ',2.0,4.0', '2023-12-08 09:24:21.442359', 'bought salad and chips, good', '4')\n",
      "(1, 2076, ',salad,chips', ',1,1', ',2,4', ',2.0,4.0', '2023-12-08 10:27:42.840788', 'bought salad and chips, good', '4')\n",
      "(1, 3150, ',salad,chips', ',1,1', ',2,4', ',2.0,4.0', '2023-12-08 10:29:05.276377', 'bought salad and chips, good', '4')\n",
      "(1, 4625, ',salad,chips', ',1,1', ',2,4', ',2.0,4.0', '2023-12-08 10:32:02.019392', 'bought salad and chips, good', '4')\n",
      "(1, 9484, 'salad,chips,', '1,2,', '2,4,', '2.0,8.0,', '2023-12-08 10:37:20.123945', 'bought salad and chips, good', '4')\n",
      "(1, 1475, 'salad,chips,', '1,3,', '2,4,', '2.0,12.0,', '2023-12-08 10:53:41', 'bought salad and chips again, great quality', '5')\n",
      "(4, 2042, 'sauce,beef,pork,', '1,1,1,', '5,10,8,', '5.0,10.0,8.0,', '2023-12-09 21:52:48', 'bought sauce, beef and pork. Not bad.', '5')\n",
      "(4, 1134, 'pasta,sushi,', '1,1,', '5,10,', '5.0,10.0,', '2023-12-09 23:30:24', 'pasta and coffee for Jane', '5')\n"
     ]
    }
   ],
   "source": [
    "try:\n",
    "    cnx=sqlite3.connect(\"Supermarket.db\")\n",
    "    cursor=cnx.cursor()\n",
    "    cursor.execute(members_all_sql)\n",
    "    #cursor.fetchall()\n",
    "    for row in cursor:\n",
    "        print(row)\n",
    "    cursor.execute(transactions_all_sql)\n",
    "    for row in cursor:\n",
    "        print(row)\n",
    "finally:\n",
    "    cnx.close()"
   ]
  },
  {
   "cell_type": "code",
   "execution_count": 25,
   "metadata": {},
   "outputs": [
    {
     "data": {
      "text/plain": [
       "'2'"
      ]
     },
     "execution_count": 25,
     "metadata": {},
     "output_type": "execute_result"
    }
   ],
   "source": [
    "\n",
    "a, b =('1','2')\n",
    "a\n",
    "result=(\"1\", \"2\")\n",
    "result[1]"
   ]
  }
 ],
 "metadata": {
  "kernelspec": {
   "display_name": "base",
   "language": "python",
   "name": "python3"
  },
  "language_info": {
   "codemirror_mode": {
    "name": "ipython",
    "version": 3
   },
   "file_extension": ".py",
   "mimetype": "text/x-python",
   "name": "python",
   "nbconvert_exporter": "python",
   "pygments_lexer": "ipython3",
   "version": "3.11.4"
  }
 },
 "nbformat": 4,
 "nbformat_minor": 2
}
